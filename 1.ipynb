{
 "cells": [
  {
   "cell_type": "markdown",
   "metadata": {},
   "source": [
    "https://shequ.stmicroelectronics.cn/search.php?mod=forum&st=wenda&searchid=46&orderby=lastpost&ascdesc=desc&searchsubmit=yes&kw=STM32%E4%B8%ADTIM1+TIM_SetCompare1%28%29%E4%B8%8E+TIM_Pulse%E6%9C%89%E4%BB%80%E4%B9%88%E4%B8%8D%E5%90%8C\n",
    "相同\n"
   ]
  },
  {
   "cell_type": "markdown",
   "metadata": {},
   "source": [
    "uint16_t TIM_Pulse;         /*!< Specifies the pulse value to be loaded into the Capture Compare Register. \n",
    "\n",
    "uint16_t TIM_Period;            /*!< Specifies the period value to be loaded into the active Auto-Reload Register at the next update event.\n",
    "  /* Set the Autoreload value */\n",
    "  TIMx->ARR = TIM_TimeBaseInitStruct->TIM_Period ;\n",
    "\n",
    "void TIM_SetCompare1(TIM_TypeDef* TIMx, uint16_t Compare1)\n",
    "  /* Set the Capture Compare1 Register value */\n",
    "  TIMx->CCR1 = Compare1;\n",
    "\n",
    "\n",
    "PWM模式是输入捕获模式的一个特例\n",
    "脉冲宽度调制模式可以产生一个由TIMx_ARR寄存器确定频率、由TIMx_CCRx寄存器确定占空比的信号。"
   ]
  },
  {
   "cell_type": "markdown",
   "metadata": {},
   "source": [
    "TIM_Prescaler：\n",
    "定时器预分频器设置，时钟源经该预分频器才是定时器时钟，它设定 TIMx_PSC寄存器的值。可设置范围为 0 至 65535，实现 1 至 65536 分频。\n",
    "\n",
    "TIM_Period：\n",
    "定时器周期，实际就是设定自动重载寄存器的值，在事件生成时更新到影子寄存器。可设置范围为 0 至 65535。\n",
    "根据定时器时钟的频率，比如时钟的频率是72MHZ，可以理解为一秒钟STM32会自己数72M次，预分频系数就是将频率分割，比如分频系数是72，则该时钟的频率会变成72MHZ/72=1MHZ，但是在设置的时候要注意，数值应该是72-1。\n",
    "假定分频系数是72-1，那么频率变成1MHZ，也就意味着STM32在一秒钟会数1M次，即1us数一次。\n",
    "好了，接下来就是确定预装载值，比如需要定时1ms，由于1ms=1us*1000,那么预装载值就是1000-1；如此类推，在预分频系数确定的情况下，定时的时长就由预装载值确定了。至于要把值减一的原因，估计是计数是从0开始，所以要减一。"
   ]
  },
  {
   "cell_type": "markdown",
   "metadata": {},
   "source": [
    "占空比30%对应的计数值ChannelPulse = (uint16_t) (((uint32_t) 30 * (周期计数值-1)) / 100);\n",
    "https://blog.csdn.net/qq_41976419/article/details/106840092"
   ]
  },
  {
   "cell_type": "markdown",
   "metadata": {},
   "source": [
    "高级控制定时器(TIM1和TIM8) ：\n",
    "单脉冲模式(OPM)是前述众多模式的一个特例。这种模式允许计数器响应一个激励，并在一个\n",
    "程序可控的延时之后产生一个脉宽可程序控制的脉冲。\n",
    "要在从TI2输入脚上检测到一个上升沿开始，延迟tDELAY之后，在OC1上产生一个长\n",
    "度为tPULSE的正脉冲。 \n",
    "\n",
    "OPM（one-pulse-mode）的波形由写入比较寄存器的数值决定(要考虑时钟频率和计数器预分频器)\n",
    "DELAY由TIMx_CCR1寄存器中的值定义。\n",
    " tPULSE由自动装载值和比较值之间的差值定义(TIMx_ARR - TIMx_CCR1)\n",
    " 因为只需要一个脉冲，所以必须设置TIMx_CR1寄存器中的OPM=1，在下一个更新事件(当计数\n",
    "器从自动装载值翻转到0)时停止计数。"
   ]
  },
  {
   "cell_type": "code",
   "execution_count": null,
   "metadata": {},
   "outputs": [],
   "source": []
  },
  {
   "cell_type": "markdown",
   "metadata": {},
   "source": [
    "PWM模式1下，TIMx_CNT<TIMx_CCRn时，输出有效电平\n",
    "\n",
    "                         TIMx_CNT>TIMx_CCRn时，输出无效电平 \n",
    "\n",
    "PWM模式2下，TIMx_CNT<TIMx_CCRn时，输出无效电平\n",
    "\n",
    "                         TIMx_CNT>TIMx_CCRn时，输出有效电平\n",
    "有效电平由TIM_OCInitStructure.TIM_OCPolarity决定\n",
    "可以是TIM_OCPolarity_High（高电平）或者TIM_OCPolarity_Low（低电平）\n",
    "原文链接：https://blog.csdn.net/zyc18700766982/article/details/126877906"
   ]
  },
  {
   "cell_type": "code",
   "execution_count": null,
   "metadata": {},
   "outputs": [],
   "source": []
  },
  {
   "cell_type": "markdown",
   "metadata": {},
   "source": [
    "https://strongerhuang.blog.csdn.net/article/details/51867044?spm=1001.2101.3001.6650.1&utm_medium=distribute.pc_relevant.none-task-blog-2%7Edefault%7ECTRLIST%7ERate-1-51867044-blog-121471869.235%5Ev38%5Epc_relevant_default_base&depth_1-utm_source=distribute.pc_relevant.none-task-blog-2%7Edefault%7ECTRLIST%7ERate-1-51867044-blog-121471869.235%5Ev38%5Epc_relevant_default_base&utm_relevant_index=2\n",
    "https://blog.csdn.net/weixin_51102592/article/details/121471869"
   ]
  },
  {
   "cell_type": "markdown",
   "metadata": {},
   "source": [
    "小车驱动：\n",
    "1.L298N的驱动\n",
    "蓝牙的连接"
   ]
  }
 ],
 "metadata": {
  "language_info": {
   "name": "python"
  }
 },
 "nbformat": 4,
 "nbformat_minor": 2
}
